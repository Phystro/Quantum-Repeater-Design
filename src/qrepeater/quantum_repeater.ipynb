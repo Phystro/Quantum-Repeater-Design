{
 "cells": [
  {
   "cell_type": "markdown",
   "id": "e68a38a7-b9b8-4be1-a7ac-3ee4b95f1174",
   "metadata": {},
   "source": [
    "# Quantum Repeater Design\n",
    "\n",
    "## Heralded Quantum Repeater\n",
    "\n",
    "### Components\n",
    "\n",
    "* QGen - perform entangled photons/qubits generation\n",
    "* QSwap - performing quantum entanglement swapping\n",
    "* Alice - represents sender\n",
    "* Bob - represents destination/recipient\n",
    "* QMem - stores qubits awaiting swapping protocol"
   ]
  },
  {
   "cell_type": "code",
   "execution_count": 110,
   "id": "2a5046cb-4b8e-47b7-97e8-32f8a47ca5d1",
   "metadata": {},
   "outputs": [],
   "source": [
    "import numpy as np\n",
    "from qiskit import ClassicalRegister, QuantumRegister, QuantumCircuit\n",
    "from qiskit import transpile\n",
    "from qiskit.result import Counts, marginal_counts\n",
    "from qiskit.visualization import array_to_latex, plot_histogram, plot_bloch_multivector\n",
    "from qiskit.extensions import Initialize\n",
    "from qiskit.quantum_info import random_statevector, Statevector\n",
    "from qiskit.providers.aer import StatevectorSimulator, QasmSimulator\n",
    "from qiskit.circuit.library import RXGate"
   ]
  },
  {
   "cell_type": "code",
   "execution_count": 111,
   "id": "9bcaaab0-5754-4f09-8705-dc25dcbc1590",
   "metadata": {},
   "outputs": [],
   "source": [
    "class QuantumCircuitOperations:\n",
    "    def __init__(self, barrier: bool = False):\n",
    "        self.barrier = barrier\n",
    "    \n",
    "    def create_random_statevector(self, dimensions: int) -> Statevector:\n",
    "        return random_statevector(dimensions)\n",
    "    \n",
    "    def create_bell_pairs(self, qc: QuantumCircuit, regs: list) -> None:\n",
    "        if self.barrier: qc.barrier()\n",
    "        for reg in regs:\n",
    "            for q in range(reg.size):\n",
    "                if q % 2 == 0:\n",
    "                    qc.h(reg[q])\n",
    "                    qc.cx(reg[q], reg[q + 1])\n",
    "    \n",
    "    def bell_state_operation(self, qc: QuantumCircuit, a: QuantumRegister) -> None:\n",
    "        if self.barrier: qc.barrier()\n",
    "        qc.cx(a[0], a[1])\n",
    "        qc.h(a[0])\n",
    "    \n",
    "    def bell_state_measurement(self, qc: QuantumCircuit, a: QuantumRegister) -> None:\n",
    "        if self.barrier: qc.barrier()\n",
    "        qc.measure(a[0], 0)\n",
    "        qc.measure(a[1], 1)\n",
    "    \n",
    "    def pauli_correction_operation(self, qc: QuantumCircuit, b: QuantumRegister, bsm_z: ClassicalRegister, bsm_x: ClassicalRegister) -> None:\n",
    "        # Apply the gates if the registers are in the state '1'\n",
    "        if self.barrier: qc.barrier()\n",
    "        qc.x(b).c_if(bsm_x, 1)\n",
    "        qc.z(b).c_if(bsm_z, 1)"
   ]
  },
  {
   "cell_type": "code",
   "execution_count": 112,
   "id": "babb89b9-b29e-4c59-aa31-3f1f36178312",
   "metadata": {},
   "outputs": [],
   "source": [
    "class QuantumVisualizations:\n",
    "    def display_statevector_as_array(self, psi: Statevector) -> None:\n",
    "        display(array_to_latex(psi, prefix=\"|\\\\psi\\\\rangle = \"))\n",
    "    \n",
    "    def display_bloch_statevector(self, psi: Statevector):\n",
    "        return plot_bloch_multivector(psi)"
   ]
  },
  {
   "cell_type": "code",
   "execution_count": 113,
   "id": "92b38c69-d54d-457f-a23a-e4c4dc0fd122",
   "metadata": {},
   "outputs": [],
   "source": [
    "class QuantumNativeSimulations:\n",
    "    def statevector_sim(self, qc: QuantumCircuit) -> Statevector:\n",
    "        # returns the circuit statevector\n",
    "        state_sim: StatevectorSimulator = StatevectorSimulator()\n",
    "        return state_sim.run(transpile(qc, state_sim)).result().get_statevector()\n",
    "    \n",
    "    def qasm_sim(self, qc: QuantumCircuit) -> Counts:\n",
    "        qasm_sim: QasmSimulator = QasmSimulator()\n",
    "        return qasm_sim.run(transpile(qc, qasm_sim), shots=10000).result().get_counts()"
   ]
  },
  {
   "cell_type": "code",
   "execution_count": 114,
   "id": "ada364cd-b003-4901-9976-a13cef67c5d1",
   "metadata": {},
   "outputs": [],
   "source": [
    "qgen_alice: QuantumRegister = QuantumRegister(2, \"qgen_alice\")\n",
    "qgen_bob: QuantumRegister = QuantumRegister(2, \"qgen_bob\")\n",
    "\n",
    "swap_channel: QuantumRegister = QuantumRegister(2, \"swap_channel\")\n",
    "\n",
    "qmem: QuantumRegister = QuantumRegister(2, \"qmem\")\n",
    "\n",
    "alice: QuantumRegister = QuantumRegister(1, \"alice\")\n",
    "bob: QuantumRegister = QuantumRegister(1, \"bob\")\n",
    "\n",
    "bsm_z: ClassicalRegister = ClassicalRegister(1, \"bsm_zresult\")\n",
    "bsm_x: ClassicalRegister = ClassicalRegister(1, \"bsm_xresult\")\n",
    "\n",
    "coz: ClassicalRegister = ClassicalRegister(1, \"coz\")\n",
    "cox: ClassicalRegister = ClassicalRegister(1, \"cox\")\n",
    "\n",
    "qc: QuantumCircuit = QuantumCircuit(qgen_alice, qgen_bob, qmem, alice, bob, swap_channel, bsm_z, bsm_x, coz, cox)"
   ]
  },
  {
   "cell_type": "code",
   "execution_count": 115,
   "id": "21d22263-efd8-471a-93f3-c649d923de67",
   "metadata": {},
   "outputs": [],
   "source": [
    "qco: QuantumCircuitOperations = QuantumCircuitOperations(True)\n",
    "qns: QuantumNativeSimulations = QuantumNativeSimulations()"
   ]
  },
  {
   "cell_type": "code",
   "execution_count": 116,
   "id": "de294f58-25fd-4e8a-88f2-16f37e93ea15",
   "metadata": {},
   "outputs": [],
   "source": [
    "qco.create_bell_pairs(qc, [qgen_alice, qgen_bob])"
   ]
  },
  {
   "cell_type": "code",
   "execution_count": 117,
   "id": "70a83c99-03f8-4d92-a509-90a3c00c9d7b",
   "metadata": {},
   "outputs": [
    {
     "data": {
      "text/plain": [
       "<qiskit.circuit.instructionset.InstructionSet at 0x7f07fc39c3d0>"
      ]
     },
     "execution_count": 117,
     "metadata": {},
     "output_type": "execute_result"
    }
   ],
   "source": [
    "qc.barrier()\n",
    "qc.swap(qgen_alice[0], qmem[0])\n",
    "qc.swap(qgen_alice[1], alice)\n",
    "qc.swap(qgen_bob[0], qmem[1])\n",
    "qc.swap(qgen_bob[1], bob)"
   ]
  },
  {
   "cell_type": "code",
   "execution_count": 118,
   "id": "0e125ccb-e9eb-449e-9f0c-5c8a9cb32760",
   "metadata": {},
   "outputs": [
    {
     "data": {
      "text/plain": [
       "<qiskit.circuit.instructionset.InstructionSet at 0x7f07fc39ce80>"
      ]
     },
     "execution_count": 118,
     "metadata": {},
     "output_type": "execute_result"
    }
   ],
   "source": [
    "qc.barrier()\n",
    "qc.swap(qmem[0], swap_channel[0])\n",
    "qc.swap(qmem[1], swap_channel[1])"
   ]
  },
  {
   "cell_type": "code",
   "execution_count": 119,
   "id": "56879089-66b7-4240-a25e-e651562f02c6",
   "metadata": {},
   "outputs": [],
   "source": [
    "qco.bell_state_operation(qc, swap_channel)"
   ]
  },
  {
   "cell_type": "code",
   "execution_count": 120,
   "id": "c0a24bb1-ff1e-4367-8cae-2282b1ad917c",
   "metadata": {},
   "outputs": [],
   "source": [
    "qco.bell_state_measurement(qc, swap_channel)"
   ]
  },
  {
   "cell_type": "code",
   "execution_count": 121,
   "id": "4100ee32-d1ca-4c0c-9ecd-d5c706ec5f28",
   "metadata": {},
   "outputs": [],
   "source": [
    "qco.pauli_correction_operation(qc, bob, bsm_z, bsm_x)"
   ]
  },
  {
   "cell_type": "code",
   "execution_count": 122,
   "id": "1e158c0f-3338-4c68-b81c-2d0a72b684e3",
   "metadata": {},
   "outputs": [
    {
     "data": {
      "text/plain": [
       "<qiskit.circuit.instructionset.InstructionSet at 0x7f080075e370>"
      ]
     },
     "execution_count": 122,
     "metadata": {},
     "output_type": "execute_result"
    }
   ],
   "source": [
    "qc.barrier()\n",
    "qc.cx(alice, bob)\n",
    "qc.h(alice)"
   ]
  },
  {
   "cell_type": "code",
   "execution_count": 123,
   "id": "4e2a7f51-4c05-4d66-bb8f-c5983b894ba1",
   "metadata": {},
   "outputs": [
    {
     "data": {
      "text/plain": [
       "<qiskit.circuit.instructionset.InstructionSet at 0x7f07fc39cdc0>"
      ]
     },
     "execution_count": 123,
     "metadata": {},
     "output_type": "execute_result"
    }
   ],
   "source": [
    "qc.barrier()\n",
    "qc.measure(alice, coz)\n",
    "qc.measure(bob, cox)"
   ]
  },
  {
   "cell_type": "code",
   "execution_count": 124,
   "id": "458dcaaf-eec4-48f2-bf7b-f7cfa534813c",
   "metadata": {},
   "outputs": [
    {
     "data": {
      "image/png": "[encoded data removed]",
      "text/plain": [
       "<Figure size 504x360 with 1 Axes>"
      ]
     },
     "execution_count": 124,
     "metadata": {},
     "output_type": "execute_result"
    }
   ],
   "source": [
    "counts: Counts = qns.qasm_sim(qc)\n",
    "plot_histogram(counts)"
   ]
  },
  {
   "cell_type": "code",
   "execution_count": 127,
   "id": "1bca6332-f40b-42bb-9499-3547def2dcee",
   "metadata": {},
   "outputs": [
    {
     "data": {
      "image/png": "[encoded data removed]",
      "text/plain": [
       "<Figure size 504x360 with 1 Axes>"
      ]
     },
     "execution_count": 127,
     "metadata": {},
     "output_type": "execute_result"
    }
   ],
   "source": [
    "qubit_counts: list = [marginal_counts(counts, [qubit]) for qubit in range(4)]\n",
    "legend: list = [\"bsm_zresult\", \"bsm_xresult\", \"alice\", \"bob\"]\n",
    "plot_histogram(qubit_counts, legend=legend, title=\"Verification of entanglement swapping\")"
   ]
  },
  {
   "cell_type": "code",
   "execution_count": 126,
   "id": "77773fdc-23c7-4a9f-aab7-b45a60a055db",
   "metadata": {},
   "outputs": [
    {
     "data": {
      "image/png": "[encoded data removed]",
      "text/plain": [
       "<Figure size 1785.35x866.88 with 1 Axes>"
      ]
     },
     "execution_count": 126,
     "metadata": {},
     "output_type": "execute_result"
    }
   ],
   "source": [
    "qc.draw(\"mpl\", fold=-1)"
   ]
  },
  {
   "cell_type": "code",
   "execution_count": null,
   "id": "6209585f-fb7c-4558-a105-cf651ad53c94",
   "metadata": {},
   "outputs": [],
   "source": []
  },
  {
   "cell_type": "code",
   "execution_count": null,
   "id": "34952529-8a31-410e-8660-b929c2c0add8",
   "metadata": {},
   "outputs": [],
   "source": []
  },
  {
   "cell_type": "code",
   "execution_count": null,
   "id": "821c9fa4-8bf7-4bb3-b27a-3e01d4b5eb12",
   "metadata": {},
   "outputs": [],
   "source": []
  }
 ],
 "metadata": {
  "kernelspec": {
   "display_name": "Python 3.10.7 64-bit",
   "language": "python",
   "name": "python3"
  },
  "language_info": {
   "codemirror_mode": {
    "name": "ipython",
    "version": 3
   },
   "file_extension": ".py",
   "mimetype": "text/x-python",
   "name": "python",
   "nbconvert_exporter": "python",
   "pygments_lexer": "ipython3",
   "version": "3.10.7"
  },
  "vscode": {
   "interpreter": {
    "hash": "e7370f93d1d0cde622a1f8e1c04877d8463912d04d973331ad4851f04de6915a"
   }
  },
  "widgets": {
   "application/vnd.jupyter.widget-state+json": {
    "state": {
     "31b46459960b4add9a8ef485303308a6": {
      "model_module": "@jupyter-widgets/base",
      "model_module_version": "1.2.0",
      "model_name": "LayoutModel",
      "state": {}
     },
     "359e338578824da78efa1f9b6ebfc544": {
      "model_module": "@jupyter-widgets/controls",
      "model_module_version": "1.5.0",
      "model_name": "GridBoxModel",
      "state": {
       "children": [
        "IPY_MODEL_3d6b76fafb8844d5b9259d1b8cceee3c"
       ],
       "layout": "IPY_MODEL_86c1925201814cccb1d2f74b357dbb73"
      }
     },
     "38a447bb366a457387dc0aac9023142b": {
      "model_module": "@jupyter-widgets/controls",
      "model_module_version": "1.5.0",
      "model_name": "HBoxModel",
      "state": {
       "children": [
        "IPY_MODEL_c84befcb01a543b793c6f1003d350c1d",
        "IPY_MODEL_e6bdfba8e3d345539e2ec7bdda7937fd",
        "IPY_MODEL_780cdc36f3b04a83a9a035783c66ee1d",
        "IPY_MODEL_c3e202a50ea54725bedcf7b34c736018",
        "IPY_MODEL_3ceab2ad2ef740d6abbe0c0a8524f8f3"
       ],
       "layout": "IPY_MODEL_ce87f1a486174a7eabb069e161576ae5"
      }
     },
     "3ceab2ad2ef740d6abbe0c0a8524f8f3": {
      "model_module": "@jupyter-widgets/controls",
      "model_module_version": "1.5.0",
      "model_name": "HTMLModel",
      "state": {
       "layout": "IPY_MODEL_31b46459960b4add9a8ef485303308a6",
       "style": "IPY_MODEL_53f0d936384c4b8587c7d73172ee2253",
       "value": "<h5>Message</h5>"
      }
     },
     "3d6b76fafb8844d5b9259d1b8cceee3c": {
      "model_module": "@jupyter-widgets/controls",
      "model_module_version": "1.5.0",
      "model_name": "ButtonModel",
      "state": {
       "button_style": "primary",
       "description": "Clear",
       "layout": "IPY_MODEL_99ce450445ac4dba935ae38da2c40a13",
       "style": "IPY_MODEL_6707e49cdf404f2e839f2097bf45f048"
      }
     },
     "4b249f92b4984ca0bf1f336cc198aa99": {
      "model_module": "@jupyter-widgets/controls",
      "model_module_version": "1.5.0",
      "model_name": "DescriptionStyleModel",
      "state": {
       "description_width": ""
      }
     },
     "4dcab6dacd1f4c569ace252f4b2f2a26": {
      "model_module": "@jupyter-widgets/base",
      "model_module_version": "1.2.0",
      "model_name": "LayoutModel",
      "state": {
       "margin": "0px 0px 10px 0px"
      }
     },
     "53f0d936384c4b8587c7d73172ee2253": {
      "model_module": "@jupyter-widgets/controls",
      "model_module_version": "1.5.0",
      "model_name": "DescriptionStyleModel",
      "state": {
       "description_width": ""
      }
     },
     "57fa29ec02b04332a381b36cba03662d": {
      "model_module": "@jupyter-widgets/controls",
      "model_module_version": "1.5.0",
      "model_name": "DescriptionStyleModel",
      "state": {
       "description_width": ""
      }
     },
     "6707e49cdf404f2e839f2097bf45f048": {
      "model_module": "@jupyter-widgets/controls",
      "model_module_version": "1.5.0",
      "model_name": "ButtonStyleModel",
      "state": {}
     },
     "773ef92df9e947d49d9b79dcdabeffc1": {
      "model_module": "@jupyter-widgets/controls",
      "model_module_version": "1.5.0",
      "model_name": "DescriptionStyleModel",
      "state": {
       "description_width": ""
      }
     },
     "780cdc36f3b04a83a9a035783c66ee1d": {
      "model_module": "@jupyter-widgets/controls",
      "model_module_version": "1.5.0",
      "model_name": "HTMLModel",
      "state": {
       "layout": "IPY_MODEL_91d10de936bf4f08a6bae3b736f89493",
       "style": "IPY_MODEL_4b249f92b4984ca0bf1f336cc198aa99",
       "value": "<h5>Status</h5>"
      }
     },
     "84b2c40130794330abba7c1ab9d550f1": {
      "model_module": "@jupyter-widgets/controls",
      "model_module_version": "1.5.0",
      "model_name": "DescriptionStyleModel",
      "state": {
       "description_width": ""
      }
     },
     "86c1925201814cccb1d2f74b357dbb73": {
      "model_module": "@jupyter-widgets/base",
      "model_module_version": "1.2.0",
      "model_name": "LayoutModel",
      "state": {
       "grid_template_areas": "\n                                       \". . . . right \"\n                                        ",
       "grid_template_columns": "20% 20% 20% 20% 20%",
       "width": "100%"
      }
     },
     "8f0adb29e1394ab4a317725365c79c46": {
      "model_module": "@jupyter-widgets/controls",
      "model_module_version": "1.5.0",
      "model_name": "HTMLModel",
      "state": {
       "layout": "IPY_MODEL_4dcab6dacd1f4c569ace252f4b2f2a26",
       "style": "IPY_MODEL_773ef92df9e947d49d9b79dcdabeffc1",
       "value": "<p style='font-family: IBM Plex Sans, Arial, Helvetica, sans-serif; font-size: 20px; font-weight: medium;'>Circuit Properties</p>"
      }
     },
     "91d10de936bf4f08a6bae3b736f89493": {
      "model_module": "@jupyter-widgets/base",
      "model_module_version": "1.2.0",
      "model_name": "LayoutModel",
      "state": {
       "width": "95px"
      }
     },
     "99ce450445ac4dba935ae38da2c40a13": {
      "model_module": "@jupyter-widgets/base",
      "model_module_version": "1.2.0",
      "model_name": "LayoutModel",
      "state": {
       "grid_area": "right",
       "padding": "0px 0px 0px 0px",
       "width": "70px"
      }
     },
     "ae935b5c343b404e83c5ff2dd6a26907": {
      "model_module": "@jupyter-widgets/base",
      "model_module_version": "1.2.0",
      "model_name": "LayoutModel",
      "state": {
       "width": "145px"
      }
     },
     "af6273f810754f55927591b6049e02ef": {
      "model_module": "@jupyter-widgets/controls",
      "model_module_version": "1.5.0",
      "model_name": "DescriptionStyleModel",
      "state": {
       "description_width": ""
      }
     },
     "bef1e00b8c7f4484a011eb460e7d3839": {
      "model_module": "@jupyter-widgets/base",
      "model_module_version": "1.2.0",
      "model_name": "LayoutModel",
      "state": {
       "width": "70px"
      }
     },
     "c3e202a50ea54725bedcf7b34c736018": {
      "model_module": "@jupyter-widgets/controls",
      "model_module_version": "1.5.0",
      "model_name": "HTMLModel",
      "state": {
       "layout": "IPY_MODEL_bef1e00b8c7f4484a011eb460e7d3839",
       "style": "IPY_MODEL_af6273f810754f55927591b6049e02ef",
       "value": "<h5>Queue</h5>"
      }
     },
     "c84befcb01a543b793c6f1003d350c1d": {
      "model_module": "@jupyter-widgets/controls",
      "model_module_version": "1.5.0",
      "model_name": "HTMLModel",
      "state": {
       "layout": "IPY_MODEL_d9260bcc4f8d47bfa3cc1689ba2a05df",
       "style": "IPY_MODEL_57fa29ec02b04332a381b36cba03662d",
       "value": "<h5>Job ID</h5>"
      }
     },
     "ce87f1a486174a7eabb069e161576ae5": {
      "model_module": "@jupyter-widgets/base",
      "model_module_version": "1.2.0",
      "model_name": "LayoutModel",
      "state": {
       "margin": "0px 0px 0px 37px",
       "width": "600px"
      }
     },
     "d9260bcc4f8d47bfa3cc1689ba2a05df": {
      "model_module": "@jupyter-widgets/base",
      "model_module_version": "1.2.0",
      "model_name": "LayoutModel",
      "state": {
       "width": "190px"
      }
     },
     "e6bdfba8e3d345539e2ec7bdda7937fd": {
      "model_module": "@jupyter-widgets/controls",
      "model_module_version": "1.5.0",
      "model_name": "HTMLModel",
      "state": {
       "layout": "IPY_MODEL_ae935b5c343b404e83c5ff2dd6a26907",
       "style": "IPY_MODEL_84b2c40130794330abba7c1ab9d550f1",
       "value": "<h5>Backend</h5>"
      }
     }
    },
    "version_major": 2,
    "version_minor": 0
   }
  }
 },
 "nbformat": 4,
 "nbformat_minor": 5
}
