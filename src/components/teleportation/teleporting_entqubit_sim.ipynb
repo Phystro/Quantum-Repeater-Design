{
 "cells": [
  {
   "cell_type": "markdown",
   "id": "d8d4d70e-7288-4632-b732-dfa0000e7031",
   "metadata": {},
   "source": [
    "# Quantum Teleportation Protocol\n",
    "\n",
    "## Teleporting an entangled qubit - Simulation"
   ]
  },
  {
   "cell_type": "code",
   "execution_count": 2,
   "id": "de4e9ea1-dcec-4c51-8d25-89136a277161",
   "metadata": {},
   "outputs": [],
   "source": [
    "import numpy as np\n",
    "from qiskit import ClassicalRegister, QuantumRegister, QuantumCircuit\n",
    "from qiskit import transpile\n",
    "from qiskit.result import Counts, marginal_counts\n",
    "from qiskit.visualization import array_to_latex, plot_histogram, plot_bloch_multivector\n",
    "from qiskit.extensions import Initialize\n",
    "from qiskit.quantum_info import random_statevector, Statevector\n",
    "from qiskit.providers.aer import StatevectorSimulator, QasmSimulator"
   ]
  },
  {
   "cell_type": "code",
   "execution_count": 3,
   "id": "4865913c-e3e2-4266-95fe-412246eefea4",
   "metadata": {},
   "outputs": [],
   "source": [
    "def create_random_data_qubit(dimensions: int) -> Statevector:\n",
    "    return random_statevector(dimensions)"
   ]
  },
  {
   "cell_type": "code",
   "execution_count": 49,
   "id": "8ebee166-fae9-44c6-be7b-025f3f5c66cf",
   "metadata": {},
   "outputs": [],
   "source": [
    "def create_bell_pair(qc: QuantumCircuit, a: QuantumRegister, b: QuantumRegister) -> None:\n",
    "    qc.barrier()\n",
    "    qc.h(a)\n",
    "    qc.cx(a, b)\n",
    "\n",
    "def create_two_bell_pairs(qc: QuantumCircuit, a: QuantumRegister, b: QuantumRegister) -> None:\n",
    "    qc.barrier()\n",
    "    qc.h(a[0])\n",
    "    qc.h(b[0])\n",
    "    qc.cx(a[0], a[1])\n",
    "    qc.cx(b[0], b[1])"
   ]
  },
  {
   "cell_type": "code",
   "execution_count": 5,
   "id": "84a576bb-f019-4aee-8cee-5cd370005e03",
   "metadata": {},
   "outputs": [],
   "source": [
    "def bell_state_operation(qc: QuantumCircuit, d: QuantumRegister, a: QuantumRegister) -> None:\n",
    "    qc.barrier()\n",
    "    qc.cx(d, a)\n",
    "    qc.h(d)"
   ]
  },
  {
   "cell_type": "code",
   "execution_count": 6,
   "id": "8634406f-7bfe-432d-9d44-b319a73fc695",
   "metadata": {},
   "outputs": [],
   "source": [
    "def bell_state_measurement(qc: QuantumCircuit, a: QuantumRegister, b: QuantumRegister) -> None:\n",
    "    qc.barrier()\n",
    "    qc.measure(a, 0)\n",
    "    qc.measure(b, 1)"
   ]
  },
  {
   "cell_type": "code",
   "execution_count": 7,
   "id": "3635af2a-ecee-4031-bd6b-45fffd4f96f8",
   "metadata": {},
   "outputs": [],
   "source": [
    "def pauli_correction_operation(qc: QuantumCircuit, b: QuantumRegister, crz: ClassicalRegister, crx: ClassicalRegister) -> None:\n",
    "    # Apply the gates if the registers are in the state '1'\n",
    "    qc.barrier()\n",
    "    qc.x(b).c_if(crx, 1)\n",
    "    qc.z(b).c_if(crz, 1)"
   ]
  },
  {
   "cell_type": "code",
   "execution_count": 11,
   "id": "f0e10650-f10a-472e-9cab-438839bc299e",
   "metadata": {},
   "outputs": [],
   "source": [
    "def statevector_simulation(qc: QuantumCircuit) -> Statevector:\n",
    "    statevector_sim: StatevectorSimulator = StatevectorSimulator()\n",
    "    # qc.save_statevector()\n",
    "    return statevector_sim.run(qc).result().get_statevector()"
   ]
  },
  {
   "cell_type": "code",
   "execution_count": 12,
   "id": "3872a3da-dd4e-446b-92bb-7872e4b5c108",
   "metadata": {},
   "outputs": [],
   "source": [
    "def qasm_count_simulation(qc: QuantumCircuit) -> Counts:\n",
    "    qasm_sim: QasmSimulator = QasmSimulator()\n",
    "    t_qc = transpile(qc, qasm_sim)\n",
    "    # t_qc.save_statevector()\n",
    "    return qasm_sim.run(t_qc).result().get_counts()"
   ]
  },
  {
   "cell_type": "code",
   "execution_count": 50,
   "id": "c94c1590-2158-4ed9-8af0-aad2abb82106",
   "metadata": {},
   "outputs": [],
   "source": [
    "# data: QuantumRegister = QuantumRegister(1, \"data\")\n",
    "\n",
    "alice: QuantumRegister = QuantumRegister(2, \"alice\")\n",
    "bob: QuantumRegister = QuantumRegister(2, \"bob\")\n",
    "\n",
    "crz: ClassicalRegister = ClassicalRegister(1, \"crz\")\n",
    "crx: ClassicalRegister = ClassicalRegister(1, \"crx\")\n",
    "\n",
    "coz: ClassicalRegister = ClassicalRegister(1, \"coz\")\n",
    "\n",
    "qc: QuantumCircuit = QuantumCircuit(alice, bob, crz, crx, coz)"
   ]
  },
  {
   "cell_type": "code",
   "execution_count": 51,
   "id": "9690cb15-391b-48ac-8859-6a6994fdc005",
   "metadata": {},
   "outputs": [],
   "source": [
    "create_two_bell_pairs(qc, alice, bob)\n",
    "# create_bell_pair(qc, alice[0], alice[1])\n",
    "# create_bell_pair(qc, bob[0], bob[1])"
   ]
  },
  {
   "cell_type": "code",
   "execution_count": 52,
   "id": "9d777209-4d18-487e-9301-c6be1c70b2fa",
   "metadata": {},
   "outputs": [
    {
     "data": {
      "image/png": "[encoded data removed]",
      "text/plain": [
       "<Figure size 302.816x445.48 with 1 Axes>"
      ]
     },
     "execution_count": 52,
     "metadata": {},
     "output_type": "execute_result"
    }
   ],
   "source": [
    "qc.draw(\"mpl\")"
   ]
  },
  {
   "cell_type": "code",
   "execution_count": null,
   "id": "512375e3-b360-48c1-88f7-0b27f5b70895",
   "metadata": {},
   "outputs": [],
   "source": []
  }
 ],
 "metadata": {
  "kernelspec": {
   "display_name": "Python 3 (ipykernel)",
   "language": "python",
   "name": "python3"
  },
  "language_info": {
   "codemirror_mode": {
    "name": "ipython",
    "version": 3
   },
   "file_extension": ".py",
   "mimetype": "text/x-python",
   "name": "python",
   "nbconvert_exporter": "python",
   "pygments_lexer": "ipython3",
   "version": "3.8.13"
  },
  "widgets": {
   "application/vnd.jupyter.widget-state+json": {
    "state": {
     "0745ed01a99d4cd2b431d57a0766eb3e": {
      "model_module": "@jupyter-widgets/base",
      "model_module_version": "1.2.0",
      "model_name": "LayoutModel",
      "state": {
       "grid_area": "right",
       "padding": "0px 0px 0px 0px",
       "width": "70px"
      }
     },
     "09fb1b38bff64bb3869977b6f9bdc546": {
      "model_module": "@jupyter-widgets/controls",
      "model_module_version": "1.5.0",
      "model_name": "ButtonStyleModel",
      "state": {}
     },
     "115124d3dc5948d8b1cd51aa9ce6aed4": {
      "model_module": "@jupyter-widgets/controls",
      "model_module_version": "1.5.0",
      "model_name": "HTMLModel",
      "state": {
       "layout": "IPY_MODEL_874e5983b2d646079846722acc84c34d",
       "style": "IPY_MODEL_68b058767c3543b9a5ab0520cccbe639",
       "value": "<p style='font-family: IBM Plex Sans, Arial, Helvetica, sans-serif; font-size: 20px; font-weight: medium;'>Circuit Properties</p>"
      }
     },
     "119a33beeefc4ee895cbe23b0d1f4851": {
      "model_module": "@jupyter-widgets/controls",
      "model_module_version": "1.5.0",
      "model_name": "HTMLModel",
      "state": {
       "layout": "IPY_MODEL_89c7555d9f524ff68b43eb26939cbb1b",
       "style": "IPY_MODEL_c38d105979d242688d17ac10a9af1d28",
       "value": "<h5>Job ID</h5>"
      }
     },
     "16f0ca5abc824d62829103058c0f10b5": {
      "model_module": "@jupyter-widgets/base",
      "model_module_version": "1.2.0",
      "model_name": "LayoutModel",
      "state": {}
     },
     "28cc989194e147a7ac04489b1f0ecd4d": {
      "model_module": "@jupyter-widgets/controls",
      "model_module_version": "1.5.0",
      "model_name": "DescriptionStyleModel",
      "state": {
       "description_width": ""
      }
     },
     "40ae3ec795134e5eaf6415dc06c835f6": {
      "model_module": "@jupyter-widgets/controls",
      "model_module_version": "1.5.0",
      "model_name": "HTMLModel",
      "state": {
       "layout": "IPY_MODEL_d19f6ee0c677407c94e3e5dbaac69758",
       "style": "IPY_MODEL_f1f7ae0ea4ff4b1e8cce358d0d977f2a",
       "value": "<h5>Queue</h5>"
      }
     },
     "68b058767c3543b9a5ab0520cccbe639": {
      "model_module": "@jupyter-widgets/controls",
      "model_module_version": "1.5.0",
      "model_name": "DescriptionStyleModel",
      "state": {
       "description_width": ""
      }
     },
     "6bde291fc5b4442fa9fec5958ffe086e": {
      "model_module": "@jupyter-widgets/controls",
      "model_module_version": "1.5.0",
      "model_name": "HTMLModel",
      "state": {
       "layout": "IPY_MODEL_16f0ca5abc824d62829103058c0f10b5",
       "style": "IPY_MODEL_c33b5576d9de4a4c89cd5d248557cdcd",
       "value": "<h5>Message</h5>"
      }
     },
     "874e5983b2d646079846722acc84c34d": {
      "model_module": "@jupyter-widgets/base",
      "model_module_version": "1.2.0",
      "model_name": "LayoutModel",
      "state": {
       "margin": "0px 0px 10px 0px"
      }
     },
     "89c7555d9f524ff68b43eb26939cbb1b": {
      "model_module": "@jupyter-widgets/base",
      "model_module_version": "1.2.0",
      "model_name": "LayoutModel",
      "state": {
       "width": "190px"
      }
     },
     "8ebf7c5ad1e14e0b8a6ce6802b2d77bd": {
      "model_module": "@jupyter-widgets/base",
      "model_module_version": "1.2.0",
      "model_name": "LayoutModel",
      "state": {
       "margin": "0px 0px 0px 37px",
       "width": "600px"
      }
     },
     "96efff2daa6d429287c04d2304410382": {
      "model_module": "@jupyter-widgets/base",
      "model_module_version": "1.2.0",
      "model_name": "LayoutModel",
      "state": {
       "width": "95px"
      }
     },
     "9f01d83ce5dc4dd8ad6d603da66f2c6a": {
      "model_module": "@jupyter-widgets/controls",
      "model_module_version": "1.5.0",
      "model_name": "HTMLModel",
      "state": {
       "layout": "IPY_MODEL_96efff2daa6d429287c04d2304410382",
       "style": "IPY_MODEL_febb754b08d9493bb69c1b50f70ecb88",
       "value": "<h5>Status</h5>"
      }
     },
     "c33b5576d9de4a4c89cd5d248557cdcd": {
      "model_module": "@jupyter-widgets/controls",
      "model_module_version": "1.5.0",
      "model_name": "DescriptionStyleModel",
      "state": {
       "description_width": ""
      }
     },
     "c38d105979d242688d17ac10a9af1d28": {
      "model_module": "@jupyter-widgets/controls",
      "model_module_version": "1.5.0",
      "model_name": "DescriptionStyleModel",
      "state": {
       "description_width": ""
      }
     },
     "c3e8bcb7c65648a1bce78267788e54a7": {
      "model_module": "@jupyter-widgets/controls",
      "model_module_version": "1.5.0",
      "model_name": "ButtonModel",
      "state": {
       "button_style": "primary",
       "description": "Clear",
       "layout": "IPY_MODEL_0745ed01a99d4cd2b431d57a0766eb3e",
       "style": "IPY_MODEL_09fb1b38bff64bb3869977b6f9bdc546"
      }
     },
     "d19f6ee0c677407c94e3e5dbaac69758": {
      "model_module": "@jupyter-widgets/base",
      "model_module_version": "1.2.0",
      "model_name": "LayoutModel",
      "state": {
       "width": "70px"
      }
     },
     "ddd1dc04bed94d2e93a254c24522bcdb": {
      "model_module": "@jupyter-widgets/controls",
      "model_module_version": "1.5.0",
      "model_name": "GridBoxModel",
      "state": {
       "children": [
        "IPY_MODEL_c3e8bcb7c65648a1bce78267788e54a7"
       ],
       "layout": "IPY_MODEL_fb43bdf1b8f34fcf878461dc6bdb868f"
      }
     },
     "dfa6be74e0ae4de08f6db2d13dfa16ff": {
      "model_module": "@jupyter-widgets/base",
      "model_module_version": "1.2.0",
      "model_name": "LayoutModel",
      "state": {
       "width": "145px"
      }
     },
     "e4f12994364149dc986234a931a1830c": {
      "model_module": "@jupyter-widgets/controls",
      "model_module_version": "1.5.0",
      "model_name": "HTMLModel",
      "state": {
       "layout": "IPY_MODEL_dfa6be74e0ae4de08f6db2d13dfa16ff",
       "style": "IPY_MODEL_28cc989194e147a7ac04489b1f0ecd4d",
       "value": "<h5>Backend</h5>"
      }
     },
     "f00983ba3d82488e82ff13599241d64d": {
      "model_module": "@jupyter-widgets/controls",
      "model_module_version": "1.5.0",
      "model_name": "HBoxModel",
      "state": {
       "children": [
        "IPY_MODEL_119a33beeefc4ee895cbe23b0d1f4851",
        "IPY_MODEL_e4f12994364149dc986234a931a1830c",
        "IPY_MODEL_9f01d83ce5dc4dd8ad6d603da66f2c6a",
        "IPY_MODEL_40ae3ec795134e5eaf6415dc06c835f6",
        "IPY_MODEL_6bde291fc5b4442fa9fec5958ffe086e"
       ],
       "layout": "IPY_MODEL_8ebf7c5ad1e14e0b8a6ce6802b2d77bd"
      }
     },
     "f1f7ae0ea4ff4b1e8cce358d0d977f2a": {
      "model_module": "@jupyter-widgets/controls",
      "model_module_version": "1.5.0",
      "model_name": "DescriptionStyleModel",
      "state": {
       "description_width": ""
      }
     },
     "fb43bdf1b8f34fcf878461dc6bdb868f": {
      "model_module": "@jupyter-widgets/base",
      "model_module_version": "1.2.0",
      "model_name": "LayoutModel",
      "state": {
       "grid_template_areas": "\n                                       \". . . . right \"\n                                        ",
       "grid_template_columns": "20% 20% 20% 20% 20%",
       "width": "100%"
      }
     },
     "febb754b08d9493bb69c1b50f70ecb88": {
      "model_module": "@jupyter-widgets/controls",
      "model_module_version": "1.5.0",
      "model_name": "DescriptionStyleModel",
      "state": {
       "description_width": ""
      }
     }
    },
    "version_major": 2,
    "version_minor": 0
   }
  }
 },
 "nbformat": 4,
 "nbformat_minor": 5
}
