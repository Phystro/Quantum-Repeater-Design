{
 "cells": [
  {
   "cell_type": "markdown",
   "id": "8371b1b9-55f1-4b2a-818d-b3416bb28bb3",
   "metadata": {},
   "source": [
    "# Bell State Basics"
   ]
  },
  {
   "cell_type": "code",
   "execution_count": 47,
   "id": "84e35149-42f7-4c4f-8e3c-41f40270d70d",
   "metadata": {},
   "outputs": [],
   "source": [
    "import matplotlib.pyplot as plt\n",
    "\n",
    "from qiskit import QuantumCircuit, QuantumRegister\n",
    "from qiskit.quantum_info import Statevector\n",
    "from qiskit.providers.aer import StatevectorSimulator\n",
    "from qiskit.visualization import array_to_latex"
   ]
  },
  {
   "cell_type": "code",
   "execution_count": 48,
   "id": "d33c5984-0816-48e5-bb4c-b2f36ec2bdd2",
   "metadata": {},
   "outputs": [],
   "source": [
    "def create_bell_pair(qc: QuantumCircuit, a: QuantumRegister, b: QuantumRegister, phase: bool = False) -> QuantumCircuit:\n",
    "    qc.h(a)\n",
    "    if phase:\n",
    "        qc.z(a)\n",
    "        qc.z(b)\n",
    "    qc.cx(a, b)\n",
    "    return qc"
   ]
  },
  {
   "cell_type": "code",
   "execution_count": 49,
   "id": "ad35d269-ba4e-4cc9-89c8-8f95e35b951b",
   "metadata": {},
   "outputs": [],
   "source": [
    "def statevector_simulation(qc: QuantumCircuit) -> Statevector:\n",
    "    statevector_sim: StatevectorSimulator = StatevectorSimulator()\n",
    "    # qc.save_statevector()\n",
    "    return statevector_sim.run(qc).result().get_statevector()"
   ]
  },
  {
   "cell_type": "markdown",
   "id": "08a0c60a-c04f-4355-9be6-4056f3a20f61",
   "metadata": {},
   "source": [
    "## 1. $|\\Phi^+\\rangle$"
   ]
  },
  {
   "cell_type": "code",
   "execution_count": 50,
   "id": "b0e29dbf-e229-4b39-88a3-491268749c89",
   "metadata": {},
   "outputs": [
    {
     "data": {
      "text/latex": [
       "$$\n",
       "|\\Phi^+\\rangle = \n",
       "\\begin{bmatrix}\n",
       "\\tfrac{1}{\\sqrt{2}} & 0 & 0 & \\tfrac{1}{\\sqrt{2}}  \\\\\n",
       " \\end{bmatrix}\n",
       "$$"
      ],
      "text/plain": [
       "<IPython.core.display.Latex object>"
      ]
     },
     "metadata": {},
     "output_type": "display_data"
    },
    {
     "data": {
      "image/png": "[encoded data removed]",
      "text/plain": [
       "<Figure size 264.396x144.48 with 1 Axes>"
      ]
     },
     "execution_count": 50,
     "metadata": {},
     "output_type": "execute_result"
    }
   ],
   "source": [
    "charlie = QuantumRegister(2, \"charlie\")\n",
    "\n",
    "qcirc = QuantumCircuit(charlie)\n",
    "\n",
    "qcirc = create_bell_pair(qcirc, charlie[0], charlie[1])\n",
    "\n",
    "statevector: Statevector = statevector_simulation(qcirc)\n",
    "display(array_to_latex(statevector, prefix=\"|\\Phi^+\\\\rangle = \"))\n",
    "\n",
    "fig = qcirc.draw(output=\"mpl\")\n",
    "fig"
   ]
  },
  {
   "cell_type": "code",
   "execution_count": 51,
   "id": "f14e6c4b-28e0-46da-8aad-d29a438262af",
   "metadata": {},
   "outputs": [],
   "source": [
    "fig.savefig(\"bell_states_basic/phi_ps.jpg\", dpi=500)"
   ]
  },
  {
   "cell_type": "markdown",
   "id": "a7df6aee-4e48-4f4f-9cb8-85c0f6bfc0ea",
   "metadata": {},
   "source": [
    "## 2. $|\\Phi^-\\rangle$"
   ]
  },
  {
   "cell_type": "code",
   "execution_count": 52,
   "id": "59d5cfb4-9aab-4663-bd4b-4b65bfc275c7",
   "metadata": {},
   "outputs": [
    {
     "data": {
      "text/latex": [
       "$$\n",
       "|\\Phi^-\\rangle = \n",
       "\\begin{bmatrix}\n",
       "\\tfrac{1}{\\sqrt{2}} & 0 & 0 & -\\tfrac{1}{\\sqrt{2}}  \\\\\n",
       " \\end{bmatrix}\n",
       "$$"
      ],
      "text/plain": [
       "<IPython.core.display.Latex object>"
      ]
     },
     "metadata": {},
     "output_type": "display_data"
    },
    {
     "data": {
      "image/png": "[encoded data removed]",
      "text/plain": [
       "<Figure size 324.596x144.48 with 1 Axes>"
      ]
     },
     "execution_count": 52,
     "metadata": {},
     "output_type": "execute_result"
    }
   ],
   "source": [
    "charlie = QuantumRegister(2, \"charlie\")\n",
    "\n",
    "qcirc = QuantumCircuit(charlie)\n",
    "\n",
    "qcirc.x(charlie[0])\n",
    "qcirc = create_bell_pair(qcirc, charlie[0], charlie[1])\n",
    "\n",
    "statevector: Statevector = statevector_simulation(qcirc)\n",
    "display(array_to_latex(statevector, prefix=\"|\\Phi^-\\\\rangle = \"))\n",
    "\n",
    "fig = qcirc.draw(\"mpl\")\n",
    "fig"
   ]
  },
  {
   "cell_type": "code",
   "execution_count": 53,
   "id": "97f689f1-cd8f-4983-b9e8-6f391d8455da",
   "metadata": {},
   "outputs": [],
   "source": [
    "fig.savefig(\"bell_states_basic/phi_ms.jpg\", dpi=500)"
   ]
  },
  {
   "cell_type": "markdown",
   "id": "c12fc893-e8b7-474d-a95e-a38ce9665b0e",
   "metadata": {},
   "source": [
    "## 3. $|\\Psi^+\\rangle$"
   ]
  },
  {
   "cell_type": "code",
   "execution_count": 54,
   "id": "b327a7bf-a4b5-401d-be3c-c3efd525cb94",
   "metadata": {},
   "outputs": [
    {
     "data": {
      "text/latex": [
       "$$\n",
       "|\\Psi^+\\rangle = \n",
       "\\begin{bmatrix}\n",
       "0 & \\tfrac{1}{\\sqrt{2}} & \\tfrac{1}{\\sqrt{2}} & 0  \\\\\n",
       " \\end{bmatrix}\n",
       "$$"
      ],
      "text/plain": [
       "<IPython.core.display.Latex object>"
      ]
     },
     "metadata": {},
     "output_type": "display_data"
    },
    {
     "data": {
      "image/png": "[encoded data removed]",
      "text/plain": [
       "<Figure size 264.396x144.48 with 1 Axes>"
      ]
     },
     "execution_count": 54,
     "metadata": {},
     "output_type": "execute_result"
    }
   ],
   "source": [
    "charlie = QuantumRegister(2, \"charlie\")\n",
    "\n",
    "qcirc = QuantumCircuit(charlie)\n",
    "\n",
    "qcirc.x(charlie[1])\n",
    "qcirc = create_bell_pair(qcirc, charlie[0], charlie[1])\n",
    "\n",
    "statevector: Statevector = statevector_simulation(qcirc)\n",
    "display(array_to_latex(statevector, prefix=\"|\\Psi^+\\\\rangle = \"))\n",
    "\n",
    "fig = qcirc.draw(\"mpl\")\n",
    "fig"
   ]
  },
  {
   "cell_type": "code",
   "execution_count": 55,
   "id": "2fe449f0-01bf-41d3-b959-88d6f8c2fe84",
   "metadata": {},
   "outputs": [],
   "source": [
    "fig.savefig(\"bell_states_basic/psi_ps.jpg\", dpi=500)"
   ]
  },
  {
   "cell_type": "markdown",
   "id": "4b93d493-703f-42eb-a2ef-7af65caed8c0",
   "metadata": {},
   "source": [
    "## 4. $|\\Psi^-\\rangle$"
   ]
  },
  {
   "cell_type": "code",
   "execution_count": 56,
   "id": "a650d15a-7207-4950-b8c3-07460e583b63",
   "metadata": {},
   "outputs": [
    {
     "data": {
      "text/latex": [
       "$$\n",
       "|\\Psi^-\\rangle = \n",
       "\\begin{bmatrix}\n",
       "0 & \\tfrac{1}{\\sqrt{2}} & -\\tfrac{1}{\\sqrt{2}} & 0  \\\\\n",
       " \\end{bmatrix}\n",
       "$$"
      ],
      "text/plain": [
       "<IPython.core.display.Latex object>"
      ]
     },
     "metadata": {},
     "output_type": "display_data"
    },
    {
     "data": {
      "image/png": "[encoded data removed]",
      "text/plain": [
       "<Figure size 324.596x144.48 with 1 Axes>"
      ]
     },
     "execution_count": 56,
     "metadata": {},
     "output_type": "execute_result"
    }
   ],
   "source": [
    "charlie = QuantumRegister(2, \"charlie\")\n",
    "\n",
    "qcirc = QuantumCircuit(charlie)\n",
    "\n",
    "qcirc.x(charlie[1])\n",
    "qcirc = create_bell_pair(qcirc, charlie[0], charlie[1], True)\n",
    "\n",
    "statevector: Statevector = statevector_simulation(qcirc)\n",
    "display(array_to_latex(statevector, prefix=\"|\\Psi^-\\\\rangle = \"))\n",
    "\n",
    "fig = qcirc.draw(\"mpl\")\n",
    "fig"
   ]
  },
  {
   "cell_type": "code",
   "execution_count": 57,
   "id": "35612ba8-e220-4cf5-9630-b4b49798bb3b",
   "metadata": {},
   "outputs": [],
   "source": [
    "fig.savefig(\"bell_states_basic/psi_ms.jpg\", dpi=500)"
   ]
  },
  {
   "cell_type": "code",
   "execution_count": null,
   "id": "0e72ff48-0df5-4c88-af83-d16db06365fd",
   "metadata": {},
   "outputs": [],
   "source": []
  }
 ],
 "metadata": {
  "kernelspec": {
   "display_name": "Python 3 (ipykernel)",
   "language": "python",
   "name": "python3"
  },
  "language_info": {
   "codemirror_mode": {
    "name": "ipython",
    "version": 3
   },
   "file_extension": ".py",
   "mimetype": "text/x-python",
   "name": "python",
   "nbconvert_exporter": "python",
   "pygments_lexer": "ipython3",
   "version": "3.8.15"
  },
  "widgets": {
   "application/vnd.jupyter.widget-state+json": {
    "state": {},
    "version_major": 2,
    "version_minor": 0
   }
  }
 },
 "nbformat": 4,
 "nbformat_minor": 5
}
