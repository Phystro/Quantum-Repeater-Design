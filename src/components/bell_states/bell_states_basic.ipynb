{
 "cells": [
  {
   "cell_type": "code",
   "execution_count": 6,
   "id": "84e35149-42f7-4c4f-8e3c-41f40270d70d",
   "metadata": {},
   "outputs": [],
   "source": [
    "import matplotlib.pyplot as plt\n",
    "\n",
    "from qiskit import QuantumCircuit, QuantumRegister\n",
    "from qiskit.providers.aer import StatevectorSimulator"
   ]
  },
  {
   "cell_type": "code",
   "execution_count": 7,
   "id": "b0e29dbf-e229-4b39-88a3-491268749c89",
   "metadata": {},
   "outputs": [],
   "source": [
    "charlie = QuantumRegister(2, \"charlie\")"
   ]
  },
  {
   "cell_type": "code",
   "execution_count": 8,
   "id": "1bb8d957-780a-4139-807e-40ad60349252",
   "metadata": {},
   "outputs": [
    {
     "data": {
      "text/plain": [
       "<qiskit.circuit.instructionset.InstructionSet at 0x7f9a78a64700>"
      ]
     },
     "execution_count": 8,
     "metadata": {},
     "output_type": "execute_result"
    }
   ],
   "source": [
    "qcirc = QuantumCircuit(charlie)\n",
    "\n",
    "qcirc.h(0)\n",
    "qcirc.cx(0, 1)"
   ]
  },
  {
   "cell_type": "code",
   "execution_count": 9,
   "id": "59d5cfb4-9aab-4663-bd4b-4b65bfc275c7",
   "metadata": {},
   "outputs": [
    {
     "data": {
      "image/png": "[encoded data removed]",
      "text/plain": [
       "<Figure size 264.396x144.48 with 1 Axes>"
      ]
     },
     "execution_count": 9,
     "metadata": {},
     "output_type": "execute_result"
    }
   ],
   "source": [
    "qcirc.draw(\"mpl\")"
   ]
  },
  {
   "cell_type": "code",
   "execution_count": 5,
   "id": "44b30994-53a1-4b54-b048-86de283b7a3e",
   "metadata": {},
   "outputs": [],
   "source": [
    "# qcirc.draw(\"mpl\").savefig(\"bell_states_basics.png\")"
   ]
  }
 ],
 "metadata": {
  "kernelspec": {
   "display_name": "Python 3 (ipykernel)",
   "language": "python",
   "name": "python3"
  },
  "language_info": {
   "codemirror_mode": {
    "name": "ipython",
    "version": 3
   },
   "file_extension": ".py",
   "mimetype": "text/x-python",
   "name": "python",
   "nbconvert_exporter": "python",
   "pygments_lexer": "ipython3",
   "version": "3.8.13"
  },
  "widgets": {
   "application/vnd.jupyter.widget-state+json": {
    "state": {},
    "version_major": 2,
    "version_minor": 0
   }
  }
 },
 "nbformat": 4,
 "nbformat_minor": 5
}
