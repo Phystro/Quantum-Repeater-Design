{
 "cells": [
  {
   "cell_type": "markdown",
   "id": "8fbf7a11-9254-46d6-81b8-c926ad9dd021",
   "metadata": {},
   "source": [
    "# Quantum Entanglement Purification\n",
    "\n",
    "## Bennett's Protocol"
   ]
  },
  {
   "cell_type": "code",
   "execution_count": 49,
   "id": "ac3d341d-3e63-4880-b66b-a648c5656e41",
   "metadata": {},
   "outputs": [],
   "source": [
    "import numpy as np\n",
    "from qiskit import ClassicalRegister, QuantumRegister, QuantumCircuit\n",
    "from qiskit import transpile\n",
    "from qiskit.result import Counts, marginal_counts\n",
    "from qiskit.visualization import array_to_latex, plot_histogram, plot_bloch_multivector\n",
    "from qiskit.extensions import Initialize\n",
    "from qiskit.quantum_info import random_statevector, Statevector\n",
    "from qiskit.providers.aer import StatevectorSimulator, QasmSimulator\n",
    "from qiskit.circuit.library import RXGate"
   ]
  },
  {
   "cell_type": "code",
   "execution_count": 50,
   "id": "8f14f69e-bf02-4237-ac04-6162f4fa8348",
   "metadata": {},
   "outputs": [],
   "source": [
    "class QuantumCircuitOperations:\n",
    "    def __init__(self, barrier: bool = False):\n",
    "        self.barrier = barrier\n",
    "    \n",
    "    def create_random_statevector(self, dimensions: int) -> Statevector:\n",
    "        return random_statevector(dimensions)\n",
    "    \n",
    "    def create_bell_pairs(self, qc: QuantumCircuit, regs: list) -> None:\n",
    "        if self.barrier: qc.barrier()\n",
    "        for reg in regs:\n",
    "            for q in range(reg.size):\n",
    "                if q % 2 == 0:\n",
    "                    qc.h(reg[q])\n",
    "                    qc.cx(reg[q], reg[q + 1])"
   ]
  },
  {
   "cell_type": "code",
   "execution_count": 51,
   "id": "3444c846-21a4-46b3-bfdf-e01ef75a318a",
   "metadata": {},
   "outputs": [],
   "source": [
    "class QuantumNativeSimulations:\n",
    "    def statevector_sim(self, qc: QuantumCircuit) -> Statevector:\n",
    "        # returns the circuit statevector\n",
    "        state_sim: StatevectorSimulator = StatevectorSimulator()\n",
    "        return state_sim.run(transpile(qc, state_sim)).result().get_statevector()\n",
    "    \n",
    "    def qasm_sim(self, qc: QuantumCircuit) -> Counts:\n",
    "        qasm_sim: QasmSimulator = QasmSimulator()\n",
    "        return qasm_sim.run(transpile(qc, qasm_sim), shots=10000).result().get_counts()"
   ]
  },
  {
   "cell_type": "code",
   "execution_count": 52,
   "id": "a2d9c917-2293-4379-8927-7af0567199c4",
   "metadata": {},
   "outputs": [],
   "source": [
    "alice: QuantumRegister = QuantumRegister(2, \"alice\")\n",
    "bob: QuantumRegister = QuantumRegister(2, \"bob\")\n",
    "\n",
    "# crz: ClassicalRegister = ClassicalRegister(1, \"crz\")\n",
    "# crx: ClassicalRegister = ClassicalRegister(1, \"crx\")\n",
    "\n",
    "coz: ClassicalRegister = ClassicalRegister(1, \"coz\")\n",
    "cox: ClassicalRegister = ClassicalRegister(1, \"cox\")\n",
    "\n",
    "qc: QuantumCircuit = QuantumCircuit(alice, bob, coz, cox)"
   ]
  },
  {
   "cell_type": "code",
   "execution_count": 53,
   "id": "c1e121a0-4a92-42cf-b6ec-c836e8254858",
   "metadata": {},
   "outputs": [],
   "source": [
    "qco: QuantumCircuitOperations = QuantumCircuitOperations(True)\n",
    "qns: QuantumNativeSimulations = QuantumNativeSimulations()"
   ]
  },
  {
   "cell_type": "code",
   "execution_count": 54,
   "id": "a4a6d5d6-5ace-4a64-8089-275f76081ac4",
   "metadata": {},
   "outputs": [],
   "source": [
    "qco.create_bell_pairs(qc, [alice, bob])"
   ]
  },
  {
   "cell_type": "code",
   "execution_count": 55,
   "id": "cb31b86f-3646-4b6b-9a4e-e948a8b4772d",
   "metadata": {},
   "outputs": [
    {
     "data": {
      "text/plain": [
       "<qiskit.circuit.instructionset.InstructionSet at 0x7f9be65dbd00>"
      ]
     },
     "execution_count": 55,
     "metadata": {},
     "output_type": "execute_result"
    }
   ],
   "source": [
    "qc.barrier()\n",
    "qc.cx(alice[0], bob[0])\n",
    "qc.cx(alice[1], bob[1])"
   ]
  },
  {
   "cell_type": "code",
   "execution_count": 56,
   "id": "35c4dbff-bbb3-4af4-a3e9-feb6ecc95d83",
   "metadata": {},
   "outputs": [
    {
     "data": {
      "text/plain": [
       "<qiskit.circuit.instructionset.InstructionSet at 0x7f9be65db790>"
      ]
     },
     "execution_count": 56,
     "metadata": {},
     "output_type": "execute_result"
    }
   ],
   "source": [
    "qc.barrier()\n",
    "qc.cx(alice[0], alice[1])\n",
    "qc.h(alice[0])"
   ]
  },
  {
   "cell_type": "code",
   "execution_count": 57,
   "id": "d0a6b914-35d4-4f43-9757-09a0b594ff27",
   "metadata": {},
   "outputs": [
    {
     "data": {
      "text/plain": [
       "<qiskit.circuit.instructionset.InstructionSet at 0x7f9be663bbb0>"
      ]
     },
     "execution_count": 57,
     "metadata": {},
     "output_type": "execute_result"
    }
   ],
   "source": [
    "qc.barrier()\n",
    "qc.measure(alice[0], coz)\n",
    "qc.measure(alice[1], cox)"
   ]
  },
  {
   "cell_type": "code",
   "execution_count": 58,
   "id": "e5f6df59-90e5-4057-9ff9-167148159378",
   "metadata": {},
   "outputs": [
    {
     "data": {
      "image/png": "[encoded data removed]",
      "text/plain": [
       "<Figure size 504x360 with 1 Axes>"
      ]
     },
     "execution_count": 58,
     "metadata": {},
     "output_type": "execute_result"
    }
   ],
   "source": [
    "counts: Counts = qns.qasm_sim(qc)\n",
    "plot_histogram(counts)"
   ]
  },
  {
   "cell_type": "code",
   "execution_count": 59,
   "id": "7bdfbea6-3a94-4b2a-8acf-4ca47ae36bc2",
   "metadata": {},
   "outputs": [
    {
     "data": {
      "image/png": "[encoded data removed]",
      "text/plain": [
       "<Figure size 844.616x385.28 with 1 Axes>"
      ]
     },
     "execution_count": 59,
     "metadata": {},
     "output_type": "execute_result"
    }
   ],
   "source": [
    "qc.draw(\"mpl\")"
   ]
  },
  {
   "cell_type": "code",
   "execution_count": null,
   "id": "3198d98c-5f8b-4f29-aabd-ec8a2a229cf6",
   "metadata": {},
   "outputs": [],
   "source": []
  },
  {
   "cell_type": "code",
   "execution_count": null,
   "id": "dbc994dd-8819-4f46-bbe7-471ad28fb7b6",
   "metadata": {},
   "outputs": [],
   "source": []
  },
  {
   "cell_type": "code",
   "execution_count": null,
   "id": "0e07bf12-3be7-4899-b049-f196e0bfe37f",
   "metadata": {},
   "outputs": [],
   "source": []
  }
 ],
 "metadata": {
  "kernelspec": {
   "display_name": "Python 3 (ipykernel)",
   "language": "python",
   "name": "python3"
  },
  "language_info": {
   "codemirror_mode": {
    "name": "ipython",
    "version": 3
   },
   "file_extension": ".py",
   "mimetype": "text/x-python",
   "name": "python",
   "nbconvert_exporter": "python",
   "pygments_lexer": "ipython3",
   "version": "3.8.13"
  },
  "widgets": {
   "application/vnd.jupyter.widget-state+json": {
    "state": {},
    "version_major": 2,
    "version_minor": 0
   }
  }
 },
 "nbformat": 4,
 "nbformat_minor": 5
}
