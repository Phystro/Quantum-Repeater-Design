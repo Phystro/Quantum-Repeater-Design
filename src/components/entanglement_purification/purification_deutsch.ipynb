{
 "cells": [
  {
   "cell_type": "markdown",
   "id": "8fbf7a11-9254-46d6-81b8-c926ad9dd021",
   "metadata": {},
   "source": [
    "# Quantum Entanglement Purification\n",
    "\n",
    "## Deutsch's Protocol"
   ]
  },
  {
   "cell_type": "code",
   "execution_count": 156,
   "id": "ac3d341d-3e63-4880-b66b-a648c5656e41",
   "metadata": {},
   "outputs": [],
   "source": [
    "import numpy as np\n",
    "from qiskit import ClassicalRegister, QuantumRegister, QuantumCircuit\n",
    "from qiskit import transpile\n",
    "from qiskit.result import Counts, marginal_counts\n",
    "from qiskit.visualization import array_to_latex, plot_histogram, plot_bloch_multivector\n",
    "from qiskit.extensions import Initialize\n",
    "from qiskit.quantum_info import random_statevector, Statevector\n",
    "from qiskit.providers.aer import StatevectorSimulator, QasmSimulator\n",
    "from qiskit.circuit.library import RXGate"
   ]
  },
  {
   "cell_type": "code",
   "execution_count": 157,
   "id": "8f14f69e-bf02-4237-ac04-6162f4fa8348",
   "metadata": {},
   "outputs": [],
   "source": [
    "class QuantumCircuitOperations:\n",
    "    def __init__(self, barrier: bool = False):\n",
    "        self.barrier = barrier\n",
    "    \n",
    "    def create_random_statevector(self, dimensions: int) -> Statevector:\n",
    "        return random_statevector(dimensions)\n",
    "    \n",
    "    def create_bell_pairs(self, qc: QuantumCircuit, regs: list) -> None:\n",
    "        if self.barrier: qc.barrier()\n",
    "        for reg in regs:\n",
    "            for q in range(reg.size):\n",
    "                if q % 2 == 0:\n",
    "                    qc.h(reg[q])\n",
    "                    qc.cx(reg[q], reg[q + 1])"
   ]
  },
  {
   "cell_type": "code",
   "execution_count": 158,
   "id": "3444c846-21a4-46b3-bfdf-e01ef75a318a",
   "metadata": {},
   "outputs": [],
   "source": [
    "class QuantumNativeSimulations:\n",
    "    def statevector_sim(self, qc: QuantumCircuit) -> Statevector:\n",
    "        # returns the circuit statevector\n",
    "        state_sim: StatevectorSimulator = StatevectorSimulator()\n",
    "        return state_sim.run(transpile(qc, state_sim)).result().get_statevector()\n",
    "    \n",
    "    def qasm_sim(self, qc: QuantumCircuit) -> Counts:\n",
    "        qasm_sim: QasmSimulator = QasmSimulator()\n",
    "        return qasm_sim.run(transpile(qc, qasm_sim), shots=10000).result().get_counts()"
   ]
  },
  {
   "cell_type": "code",
   "execution_count": 159,
   "id": "a2d9c917-2293-4379-8927-7af0567199c4",
   "metadata": {},
   "outputs": [],
   "source": [
    "alice: QuantumRegister = QuantumRegister(2, \"alice\")\n",
    "bob: QuantumRegister = QuantumRegister(2, \"bob\")\n",
    "\n",
    "# crz: ClassicalRegister = ClassicalRegister(1, \"crz\")\n",
    "# crx: ClassicalRegister = ClassicalRegister(1, \"crx\")\n",
    "\n",
    "coz: ClassicalRegister = ClassicalRegister(1, \"coz\")\n",
    "cox: ClassicalRegister = ClassicalRegister(1, \"cox\")\n",
    "\n",
    "qc: QuantumCircuit = QuantumCircuit(alice, bob, coz, cox)"
   ]
  },
  {
   "cell_type": "code",
   "execution_count": 160,
   "id": "c1e121a0-4a92-42cf-b6ec-c836e8254858",
   "metadata": {},
   "outputs": [],
   "source": [
    "qco: QuantumCircuitOperations = QuantumCircuitOperations(True)\n",
    "qns: QuantumNativeSimulations = QuantumNativeSimulations()"
   ]
  },
  {
   "cell_type": "code",
   "execution_count": 161,
   "id": "a4a6d5d6-5ace-4a64-8089-275f76081ac4",
   "metadata": {},
   "outputs": [],
   "source": [
    "qco.create_bell_pairs(qc, [alice, bob])"
   ]
  },
  {
   "cell_type": "code",
   "execution_count": 162,
   "id": "787bfc37-96e6-4c68-9fe9-f2dd8f70c6d4",
   "metadata": {},
   "outputs": [
    {
     "data": {
      "text/plain": [
       "<qiskit.circuit.instructionset.InstructionSet at 0x7fce3b6f1bb0>"
      ]
     },
     "execution_count": 162,
     "metadata": {},
     "output_type": "execute_result"
    }
   ],
   "source": [
    "qc.barrier()\n",
    "qc.append(RXGate(np.pi/2), [alice[0]])\n",
    "qc.append(RXGate(np.pi/2), [bob[0]])\n",
    "qc.append(RXGate(-np.pi/2), [alice[1]])\n",
    "qc.append(RXGate(-np.pi/2), [bob[1]])"
   ]
  },
  {
   "cell_type": "code",
   "execution_count": 163,
   "id": "cb31b86f-3646-4b6b-9a4e-e948a8b4772d",
   "metadata": {},
   "outputs": [
    {
     "data": {
      "text/plain": [
       "<qiskit.circuit.instructionset.InstructionSet at 0x7fce3bb9b790>"
      ]
     },
     "execution_count": 163,
     "metadata": {},
     "output_type": "execute_result"
    }
   ],
   "source": [
    "qc.barrier()\n",
    "qc.cx(alice[0], bob[0])\n",
    "qc.cx(alice[1], bob[1])"
   ]
  },
  {
   "cell_type": "code",
   "execution_count": 164,
   "id": "35c4dbff-bbb3-4af4-a3e9-feb6ecc95d83",
   "metadata": {},
   "outputs": [
    {
     "data": {
      "text/plain": [
       "<qiskit.circuit.instructionset.InstructionSet at 0x7fce3bc05af0>"
      ]
     },
     "execution_count": 164,
     "metadata": {},
     "output_type": "execute_result"
    }
   ],
   "source": [
    "qc.barrier()\n",
    "qc.cx(alice[0], alice[1])\n",
    "qc.h(alice[0])"
   ]
  },
  {
   "cell_type": "code",
   "execution_count": 165,
   "id": "d0a6b914-35d4-4f43-9757-09a0b594ff27",
   "metadata": {},
   "outputs": [
    {
     "data": {
      "text/plain": [
       "<qiskit.circuit.instructionset.InstructionSet at 0x7fce3bbb5d30>"
      ]
     },
     "execution_count": 165,
     "metadata": {},
     "output_type": "execute_result"
    }
   ],
   "source": [
    "qc.barrier()\n",
    "qc.measure(alice[0], coz)\n",
    "qc.measure(alice[1], cox)"
   ]
  },
  {
   "cell_type": "code",
   "execution_count": 166,
   "id": "e5f6df59-90e5-4057-9ff9-167148159378",
   "metadata": {},
   "outputs": [
    {
     "data": {
      "image/png": "[encoded data removed]",
      "text/plain": [
       "<Figure size 504x360 with 1 Axes>"
      ]
     },
     "execution_count": 166,
     "metadata": {},
     "output_type": "execute_result"
    }
   ],
   "source": [
    "counts: Counts = qns.qasm_sim(qc)\n",
    "plot_histogram(counts)"
   ]
  },
  {
   "cell_type": "code",
   "execution_count": 167,
   "id": "7bdfbea6-3a94-4b2a-8acf-4ca47ae36bc2",
   "metadata": {},
   "outputs": [
    {
     "data": {
      "image/png": "[encoded data removed]",
      "text/plain": [
       "<Figure size 965.016x385.28 with 1 Axes>"
      ]
     },
     "execution_count": 167,
     "metadata": {},
     "output_type": "execute_result"
    }
   ],
   "source": [
    "qc.draw(\"mpl\")"
   ]
  },
  {
   "cell_type": "code",
   "execution_count": null,
   "id": "3198d98c-5f8b-4f29-aabd-ec8a2a229cf6",
   "metadata": {},
   "outputs": [],
   "source": []
  },
  {
   "cell_type": "code",
   "execution_count": null,
   "id": "dbc994dd-8819-4f46-bbe7-471ad28fb7b6",
   "metadata": {},
   "outputs": [],
   "source": []
  },
  {
   "cell_type": "code",
   "execution_count": null,
   "id": "0e07bf12-3be7-4899-b049-f196e0bfe37f",
   "metadata": {},
   "outputs": [],
   "source": []
  }
 ],
 "metadata": {
  "kernelspec": {
   "display_name": "Python 3.10.7 64-bit",
   "language": "python",
   "name": "python3"
  },
  "language_info": {
   "codemirror_mode": {
    "name": "ipython",
    "version": 3
   },
   "file_extension": ".py",
   "mimetype": "text/x-python",
   "name": "python",
   "nbconvert_exporter": "python",
   "pygments_lexer": "ipython3",
   "version": "3.10.7"
  },
  "vscode": {
   "interpreter": {
    "hash": "e7370f93d1d0cde622a1f8e1c04877d8463912d04d973331ad4851f04de6915a"
   }
  },
  "widgets": {
   "application/vnd.jupyter.widget-state+json": {
    "state": {
     "00459593edd547d58a3467e88b63309b": {
      "model_module": "@jupyter-widgets/base",
      "model_module_version": "1.2.0",
      "model_name": "LayoutModel",
      "state": {}
     },
     "074f5b17c4504cf7b111347c4e217b55": {
      "model_module": "@jupyter-widgets/controls",
      "model_module_version": "1.5.0",
      "model_name": "HBoxModel",
      "state": {
       "children": [
        "IPY_MODEL_c1f5e2195e42435e9e435e27ee653b02",
        "IPY_MODEL_18dd2ca4975e4d1a986c9cc2b321c4a5",
        "IPY_MODEL_6059aa87eba249728afc7245b465b56a",
        "IPY_MODEL_415bc3930fcc444e9e249d5001519c66",
        "IPY_MODEL_5dd74cf8a36d4dcaa7c21ef837903c76"
       ],
       "layout": "IPY_MODEL_cb211869c495412dbe200e88a071ce48"
      }
     },
     "18dd2ca4975e4d1a986c9cc2b321c4a5": {
      "model_module": "@jupyter-widgets/controls",
      "model_module_version": "1.5.0",
      "model_name": "HTMLModel",
      "state": {
       "layout": "IPY_MODEL_3ba2a1c5762348a6be3be36473da2252",
       "style": "IPY_MODEL_a255c7d0baf64fabadf8bcc4d25fef5d",
       "value": "<h5>Backend</h5>"
      }
     },
     "3ba2a1c5762348a6be3be36473da2252": {
      "model_module": "@jupyter-widgets/base",
      "model_module_version": "1.2.0",
      "model_name": "LayoutModel",
      "state": {
       "width": "145px"
      }
     },
     "415bc3930fcc444e9e249d5001519c66": {
      "model_module": "@jupyter-widgets/controls",
      "model_module_version": "1.5.0",
      "model_name": "HTMLModel",
      "state": {
       "layout": "IPY_MODEL_a1f1f3939ff74372aca503f0f11d5ba8",
       "style": "IPY_MODEL_f3d5ebc336b44a4bb14ff8640ba77f59",
       "value": "<h5>Queue</h5>"
      }
     },
     "4b3151d461e9489dacbfb807f12cce31": {
      "model_module": "@jupyter-widgets/controls",
      "model_module_version": "1.5.0",
      "model_name": "DescriptionStyleModel",
      "state": {
       "description_width": ""
      }
     },
     "4df6374ed9f840d2baa5ba54cfa39a29": {
      "model_module": "@jupyter-widgets/controls",
      "model_module_version": "1.5.0",
      "model_name": "DescriptionStyleModel",
      "state": {
       "description_width": ""
      }
     },
     "53beb90460db46e2af430a8c68765150": {
      "model_module": "@jupyter-widgets/controls",
      "model_module_version": "1.5.0",
      "model_name": "ButtonStyleModel",
      "state": {}
     },
     "5da9c06925f44f1ebbb9c190021eaeda": {
      "model_module": "@jupyter-widgets/controls",
      "model_module_version": "1.5.0",
      "model_name": "ButtonModel",
      "state": {
       "button_style": "primary",
       "description": "Clear",
       "layout": "IPY_MODEL_6e5bcd1eb99c4287a6834f67b293da1a",
       "style": "IPY_MODEL_53beb90460db46e2af430a8c68765150"
      }
     },
     "5dd74cf8a36d4dcaa7c21ef837903c76": {
      "model_module": "@jupyter-widgets/controls",
      "model_module_version": "1.5.0",
      "model_name": "HTMLModel",
      "state": {
       "layout": "IPY_MODEL_00459593edd547d58a3467e88b63309b",
       "style": "IPY_MODEL_4df6374ed9f840d2baa5ba54cfa39a29",
       "value": "<h5>Message</h5>"
      }
     },
     "6059aa87eba249728afc7245b465b56a": {
      "model_module": "@jupyter-widgets/controls",
      "model_module_version": "1.5.0",
      "model_name": "HTMLModel",
      "state": {
       "layout": "IPY_MODEL_f0eaeb4ce64b41a1a3fee9eb96f3a1e3",
       "style": "IPY_MODEL_ff20c5a7846c4f458bac0015d29ef2aa",
       "value": "<h5>Status</h5>"
      }
     },
     "6e5bcd1eb99c4287a6834f67b293da1a": {
      "model_module": "@jupyter-widgets/base",
      "model_module_version": "1.2.0",
      "model_name": "LayoutModel",
      "state": {
       "grid_area": "right",
       "padding": "0px 0px 0px 0px",
       "width": "70px"
      }
     },
     "743cbfe82ce54455aa97117ec84cc56a": {
      "model_module": "@jupyter-widgets/controls",
      "model_module_version": "1.5.0",
      "model_name": "HTMLModel",
      "state": {
       "layout": "IPY_MODEL_e61eaee92e8d4daf95583d01b2b50d34",
       "style": "IPY_MODEL_d61da332d618404db0a971e698b9f90e",
       "value": "<p style='font-family: IBM Plex Sans, Arial, Helvetica, sans-serif; font-size: 20px; font-weight: medium;'>Circuit Properties</p>"
      }
     },
     "7fccc8b82bd94b36a92ac8d95f6deecb": {
      "model_module": "@jupyter-widgets/controls",
      "model_module_version": "1.5.0",
      "model_name": "GridBoxModel",
      "state": {
       "children": [
        "IPY_MODEL_5da9c06925f44f1ebbb9c190021eaeda"
       ],
       "layout": "IPY_MODEL_cf3525326e62447e8d5660d4002cc2c8"
      }
     },
     "a1f1f3939ff74372aca503f0f11d5ba8": {
      "model_module": "@jupyter-widgets/base",
      "model_module_version": "1.2.0",
      "model_name": "LayoutModel",
      "state": {
       "width": "70px"
      }
     },
     "a255c7d0baf64fabadf8bcc4d25fef5d": {
      "model_module": "@jupyter-widgets/controls",
      "model_module_version": "1.5.0",
      "model_name": "DescriptionStyleModel",
      "state": {
       "description_width": ""
      }
     },
     "c1f5e2195e42435e9e435e27ee653b02": {
      "model_module": "@jupyter-widgets/controls",
      "model_module_version": "1.5.0",
      "model_name": "HTMLModel",
      "state": {
       "layout": "IPY_MODEL_d7c5fd328fff4a39b0eb51fe1cc1e209",
       "style": "IPY_MODEL_4b3151d461e9489dacbfb807f12cce31",
       "value": "<h5>Job ID</h5>"
      }
     },
     "cb211869c495412dbe200e88a071ce48": {
      "model_module": "@jupyter-widgets/base",
      "model_module_version": "1.2.0",
      "model_name": "LayoutModel",
      "state": {
       "margin": "0px 0px 0px 37px",
       "width": "600px"
      }
     },
     "cf3525326e62447e8d5660d4002cc2c8": {
      "model_module": "@jupyter-widgets/base",
      "model_module_version": "1.2.0",
      "model_name": "LayoutModel",
      "state": {
       "grid_template_areas": "\n                                       \". . . . right \"\n                                        ",
       "grid_template_columns": "20% 20% 20% 20% 20%",
       "width": "100%"
      }
     },
     "d61da332d618404db0a971e698b9f90e": {
      "model_module": "@jupyter-widgets/controls",
      "model_module_version": "1.5.0",
      "model_name": "DescriptionStyleModel",
      "state": {
       "description_width": ""
      }
     },
     "d7c5fd328fff4a39b0eb51fe1cc1e209": {
      "model_module": "@jupyter-widgets/base",
      "model_module_version": "1.2.0",
      "model_name": "LayoutModel",
      "state": {
       "width": "190px"
      }
     },
     "e61eaee92e8d4daf95583d01b2b50d34": {
      "model_module": "@jupyter-widgets/base",
      "model_module_version": "1.2.0",
      "model_name": "LayoutModel",
      "state": {
       "margin": "0px 0px 10px 0px"
      }
     },
     "f0eaeb4ce64b41a1a3fee9eb96f3a1e3": {
      "model_module": "@jupyter-widgets/base",
      "model_module_version": "1.2.0",
      "model_name": "LayoutModel",
      "state": {
       "width": "95px"
      }
     },
     "f3d5ebc336b44a4bb14ff8640ba77f59": {
      "model_module": "@jupyter-widgets/controls",
      "model_module_version": "1.5.0",
      "model_name": "DescriptionStyleModel",
      "state": {
       "description_width": ""
      }
     },
     "ff20c5a7846c4f458bac0015d29ef2aa": {
      "model_module": "@jupyter-widgets/controls",
      "model_module_version": "1.5.0",
      "model_name": "DescriptionStyleModel",
      "state": {
       "description_width": ""
      }
     }
    },
    "version_major": 2,
    "version_minor": 0
   }
  }
 },
 "nbformat": 4,
 "nbformat_minor": 5
}
