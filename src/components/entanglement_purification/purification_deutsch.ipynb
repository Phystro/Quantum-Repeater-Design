{
 "cells": [
  {
   "cell_type": "markdown",
   "id": "8fbf7a11-9254-46d6-81b8-c926ad9dd021",
   "metadata": {},
   "source": [
    "# Quantum Entanglement Purification\n",
    "\n",
    "## Deutsch's Protocol"
   ]
  },
  {
   "cell_type": "code",
   "execution_count": 1,
   "id": "ac3d341d-3e63-4880-b66b-a648c5656e41",
   "metadata": {},
   "outputs": [
    {
     "name": "stderr",
     "output_type": "stream",
     "text": [
      "<frozen importlib._bootstrap>:219: RuntimeWarning: scipy._lib.messagestream.MessageStream size changed, may indicate binary incompatibility. Expected 56 from C header, got 64 from PyObject\n"
     ]
    }
   ],
   "source": [
    "import numpy as np\n",
    "from qiskit import ClassicalRegister, QuantumRegister, QuantumCircuit\n",
    "from qiskit import transpile\n",
    "from qiskit.result import Counts, marginal_counts\n",
    "from qiskit.visualization import array_to_latex, plot_histogram, plot_bloch_multivector\n",
    "from qiskit.extensions import Initialize\n",
    "from qiskit.quantum_info import random_statevector, Statevector, state_fidelity\n",
    "from qiskit.providers.aer import StatevectorSimulator, QasmSimulator\n",
    "from qiskit.circuit.library import RXGate"
   ]
  },
  {
   "cell_type": "code",
   "execution_count": 2,
   "id": "8f14f69e-bf02-4237-ac04-6162f4fa8348",
   "metadata": {},
   "outputs": [],
   "source": [
    "class QuantumCircuitOperations:\n",
    "    def __init__(self, barrier: bool = False):\n",
    "        self.barrier = barrier\n",
    "    \n",
    "    def create_random_statevector(self, dimensions: int) -> Statevector:\n",
    "        return random_statevector(dimensions)\n",
    "    \n",
    "    def create_bell_pairs(self, qc: QuantumCircuit, regs: list) -> None:\n",
    "        if self.barrier: qc.barrier()\n",
    "        for reg in regs:\n",
    "            for q in range(reg.size):\n",
    "                if q % 2 == 0:\n",
    "                    qc.h(reg[q])\n",
    "                    qc.cx(reg[q], reg[q + 1])"
   ]
  },
  {
   "cell_type": "code",
   "execution_count": 3,
   "id": "3444c846-21a4-46b3-bfdf-e01ef75a318a",
   "metadata": {},
   "outputs": [],
   "source": [
    "class QuantumNativeSimulations:\n",
    "    def statevector_sim(self, qc: QuantumCircuit) -> Statevector:\n",
    "        # returns the circuit statevector\n",
    "        state_sim: StatevectorSimulator = StatevectorSimulator()\n",
    "        return state_sim.run(transpile(qc, state_sim)).result().get_statevector()\n",
    "    \n",
    "    def qasm_sim(self, qc: QuantumCircuit) -> Counts:\n",
    "        qasm_sim: QasmSimulator = QasmSimulator()\n",
    "        return qasm_sim.run(transpile(qc, qasm_sim), shots=10000).result().get_counts()"
   ]
  },
  {
   "cell_type": "code",
   "execution_count": 4,
   "id": "a2d9c917-2293-4379-8927-7af0567199c4",
   "metadata": {},
   "outputs": [],
   "source": [
    "alice: QuantumRegister = QuantumRegister(2, \"alice\")\n",
    "charlie: QuantumRegister = QuantumRegister(2, \"charlie\")\n",
    "bob: QuantumRegister = QuantumRegister(2, \"bob\")\n",
    "\n",
    "# crz: ClassicalRegister = ClassicalRegister(1, \"crz\")\n",
    "# crx: ClassicalRegister = ClassicalRegister(1, \"crx\")\n",
    "\n",
    "coz: ClassicalRegister = ClassicalRegister(1, \"coz\")\n",
    "cox: ClassicalRegister = ClassicalRegister(1, \"cox\")\n",
    "# cz: ClassicalRegister = ClassicalRegister(1, \"cz\")\n",
    "# cx: ClassicalRegister = ClassicalRegister(1, \"cx\")\n",
    "\n",
    "qc: QuantumCircuit = QuantumCircuit(alice, charlie, bob, coz, cox)"
   ]
  },
  {
   "cell_type": "code",
   "execution_count": 5,
   "id": "c1e121a0-4a92-42cf-b6ec-c836e8254858",
   "metadata": {},
   "outputs": [],
   "source": [
    "qco: QuantumCircuitOperations = QuantumCircuitOperations(True)\n",
    "qns: QuantumNativeSimulations = QuantumNativeSimulations()"
   ]
  },
  {
   "cell_type": "code",
   "execution_count": 6,
   "id": "a4a6d5d6-5ace-4a64-8089-275f76081ac4",
   "metadata": {},
   "outputs": [],
   "source": [
    "qco.create_bell_pairs(qc, [alice, charlie, bob])\n",
    "\n",
    "qc1: Statevector = qns.statevector_sim(qc)"
   ]
  },
  {
   "cell_type": "code",
   "execution_count": 7,
   "id": "cb31b86f-3646-4b6b-9a4e-e948a8b4772d",
   "metadata": {},
   "outputs": [
    {
     "data": {
      "text/plain": [
       "<qiskit.circuit.instructionset.InstructionSet at 0x7f9e969a61c0>"
      ]
     },
     "execution_count": 7,
     "metadata": {},
     "output_type": "execute_result"
    }
   ],
   "source": [
    "qc.barrier()\n",
    "qc.append(RXGate(np.pi/2), [alice[0]])\n",
    "qc.append(RXGate(-np.pi/2), [alice[1]])\n",
    "qc.append(RXGate(np.pi/2), [charlie[0]])\n",
    "qc.append(RXGate(-np.pi/2), [charlie[1]])\n",
    "\n",
    "qc.cx(alice[0], charlie[0])\n",
    "qc.cx(alice[1], charlie[1])\n",
    "\n",
    "qc.barrier()\n",
    "qc.measure(charlie[0], coz)\n",
    "qc.measure(charlie[1], cox)\n",
    "\n",
    "# qc.i(charlie[0]).c_if(coz, 1)\n",
    "# qc.i(charlie[1]).c_if(cox, 1)"
   ]
  },
  {
   "cell_type": "code",
   "execution_count": 8,
   "id": "458f9d98-cbf7-485b-b755-818fa8d6467a",
   "metadata": {},
   "outputs": [
    {
     "data": {
      "text/plain": [
       "<qiskit.circuit.instructionset.InstructionSet at 0x7f9e9696e340>"
      ]
     },
     "execution_count": 8,
     "metadata": {},
     "output_type": "execute_result"
    }
   ],
   "source": [
    "qc.barrier()\n",
    "qc.append(RXGate(np.pi/2), [alice[0]])\n",
    "qc.append(RXGate(-np.pi/2), [alice[1]])\n",
    "qc.append(RXGate(np.pi/2), [bob[0]])\n",
    "qc.append(RXGate(-np.pi/2), [bob[1]])\n",
    "\n",
    "qc.cx(alice[0], bob[0])\n",
    "qc.cx(alice[1], bob[1])\n",
    "\n",
    "qc.barrier()\n",
    "qc.measure(bob[0], coz)\n",
    "qc.measure(bob[1], cox)\n",
    "\n",
    "# qc.x(bob[0]).c_if(coz, 1)\n",
    "# qc.x(bob[1]).c_if(cox, 1)"
   ]
  },
  {
   "cell_type": "code",
   "execution_count": 9,
   "id": "35c4dbff-bbb3-4af4-a3e9-feb6ecc95d83",
   "metadata": {},
   "outputs": [],
   "source": [
    "# qc.barrier()\n",
    "# qc.cx(alice[0], alice[1])\n",
    "# qc.h(alice[0])"
   ]
  },
  {
   "cell_type": "code",
   "execution_count": 10,
   "id": "e5f6df59-90e5-4057-9ff9-167148159378",
   "metadata": {},
   "outputs": [
    {
     "data": {
      "image/png": "[encoded data removed]",
      "text/plain": [
       "<Figure size 504x360 with 1 Axes>"
      ]
     },
     "execution_count": 10,
     "metadata": {},
     "output_type": "execute_result"
    }
   ],
   "source": [
    "counts: Counts = qns.qasm_sim(qc)\n",
    "fig = plot_histogram(counts)\n",
    "fig"
   ]
  },
  {
   "cell_type": "code",
   "execution_count": 11,
   "id": "13f8f0d8-a310-4639-ace7-1b95e0b30b75",
   "metadata": {},
   "outputs": [],
   "source": [
    "fig.savefig(\"purification_deutsch_results.jpg\", dpi=500)"
   ]
  },
  {
   "cell_type": "code",
   "execution_count": 12,
   "id": "7bdfbea6-3a94-4b2a-8acf-4ca47ae36bc2",
   "metadata": {},
   "outputs": [
    {
     "data": {
      "image/png": "[encoded data removed]",
      "text/plain": [
       "<Figure size 1167.4x505.68 with 1 Axes>"
      ]
     },
     "execution_count": 12,
     "metadata": {},
     "output_type": "execute_result"
    }
   ],
   "source": [
    "fig = qc.draw(\"mpl\")\n",
    "fig"
   ]
  },
  {
   "cell_type": "code",
   "execution_count": 13,
   "id": "3198d98c-5f8b-4f29-aabd-ec8a2a229cf6",
   "metadata": {},
   "outputs": [],
   "source": [
    "fig.savefig(\"purification_deutsch.jpg\", dpi=500)"
   ]
  },
  {
   "cell_type": "code",
   "execution_count": null,
   "id": "dbc994dd-8819-4f46-bbe7-471ad28fb7b6",
   "metadata": {},
   "outputs": [],
   "source": []
  },
  {
   "cell_type": "code",
   "execution_count": null,
   "id": "89215729-773e-4b98-b2d4-67f83531f43a",
   "metadata": {},
   "outputs": [],
   "source": []
  }
 ],
 "metadata": {
  "kernelspec": {
   "display_name": "Python 3 (ipykernel)",
   "language": "python",
   "name": "python3"
  },
  "language_info": {
   "codemirror_mode": {
    "name": "ipython",
    "version": 3
   },
   "file_extension": ".py",
   "mimetype": "text/x-python",
   "name": "python",
   "nbconvert_exporter": "python",
   "pygments_lexer": "ipython3",
   "version": "3.8.15"
  },
  "widgets": {
   "application/vnd.jupyter.widget-state+json": {
    "state": {},
    "version_major": 2,
    "version_minor": 0
   }
  }
 },
 "nbformat": 4,
 "nbformat_minor": 5
}
